{
 "cells": [
  {
   "cell_type": "markdown",
   "id": "df693188-ad73-4fea-b2c3-80b8f231f008",
   "metadata": {},
   "source": [
    "# Data Science Tools and Ecosystem\n",
    "  In this notebook, Data Science Tools and Ecosystem are summarized."
   ]
  },
  {
   "cell_type": "markdown",
   "id": "d25eaa61-f819-4520-b828-5040735a48b5",
   "metadata": {},
   "source": [
    "## Some of the popular languages that Data Scientists use are:\n",
    "\r",
    "1. Python: Widely used for data manipulation, analysis, and machine learning tasks. Popular libraries include NumPy, Pandas,     and scikit-learn.>\n",
    "2. R: A statistical programming language with extensive libraries for data analysis, visualization, and machine learning.\n",
    "3. SQL: Used for querying and managing relational databases.il/bases."
   ]
  },
  {
   "cell_type": "markdown",
   "id": "a6dc8880-c0f5-484e-9878-29ca319184be",
   "metadata": {},
   "source": [
    "## Some of the commonly used libraries used by Data Scientists include:\n",
    "\n",
    "1. NumPy: A fundamental library for numerical computing in Python, providing efficient array operations and linear algebra functions.\n",
    "\n",
    "2. \n",
    "Pandas: A powerful library for data manipulation and analysis, offering data structures (e.g., DataFrame) and tools for handling structured data\n",
    "3. \r\n",
    "Matplotlib: A versatile library for creating static, animated, and interactive visualizations in Python."
   ]
  },
  {
   "cell_type": "markdown",
   "id": "ceac1bec-95e2-4eca-9b6a-ebb69da25d06",
   "metadata": {},
   "source": [
    "|data-science|\r\n",
    "|----|\r\n",
    "|jupyter|\r\n",
    "|numpy|\r\n",
    "|pandas|\n",
    "</table>"
   ]
  },
  {
   "cell_type": "markdown",
   "id": "0234e8d2-8c95-4ce2-94dd-04ab2a81bce6",
   "metadata": {},
   "source": [
    "### Below are a few examples of evaluating arithmetic expressions in Python"
   ]
  },
  {
   "cell_type": "code",
   "execution_count": 6,
   "id": "be55acd5-cb05-47a9-bb44-d9d0d22a61af",
   "metadata": {},
   "outputs": [
    {
     "name": "stdout",
     "output_type": "stream",
     "text": [
      "17\n"
     ]
    }
   ],
   "source": [
    "print((3*4)+5) # This a simple arithmetic expression to mutiply then add integers"
   ]
  },
  {
   "cell_type": "code",
   "execution_count": 8,
   "id": "5aa9ff71-632e-494a-b048-68ece4f80cdd",
   "metadata": {},
   "outputs": [
    {
     "name": "stdout",
     "output_type": "stream",
     "text": [
      "3.3333333333333335\n"
     ]
    }
   ],
   "source": [
    "# This will convert 200 minutes to hours by diving by 60.\n",
    "a=200/60\n",
    "print(a)"
   ]
  },
  {
   "cell_type": "markdown",
   "id": "4530aa25-0a0c-453f-a7a1-4a34b3bddd83",
   "metadata": {},
   "source": [
    "### objectives\n",
    "* python\n",
    "* R\n",
    "* julia\n",
    "* java\n",
    "* php"
   ]
  },
  {
   "cell_type": "markdown",
   "id": "ab636542-c0e3-46e3-a5b7-8f27348302d2",
   "metadata": {},
   "source": [
    "## Author\n",
    " Harpuneet Singh"
   ]
  },
  {
   "cell_type": "code",
   "execution_count": null,
   "id": "3c6fd573-b6b9-4a1c-8e23-33dfd70039b0",
   "metadata": {},
   "outputs": [],
   "source": []
  }
 ],
 "metadata": {
  "kernelspec": {
   "display_name": "Python 3 (ipykernel)",
   "language": "python",
   "name": "python3"
  },
  "language_info": {
   "codemirror_mode": {
    "name": "ipython",
    "version": 3
   },
   "file_extension": ".py",
   "mimetype": "text/x-python",
   "name": "python",
   "nbconvert_exporter": "python",
   "pygments_lexer": "ipython3",
   "version": "3.10.5"
  }
 },
 "nbformat": 4,
 "nbformat_minor": 5
}
